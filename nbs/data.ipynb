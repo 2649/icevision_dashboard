{
 "cells": [
  {
   "cell_type": "code",
   "execution_count": null,
   "metadata": {},
   "outputs": [],
   "source": [
    "# default_exp data"
   ]
  },
  {
   "cell_type": "markdown",
   "metadata": {},
   "source": [
    "# data\n",
    "> Provides dataset for icevision records and classmaps"
   ]
  },
  {
   "cell_type": "code",
   "execution_count": null,
   "metadata": {},
   "outputs": [],
   "source": [
    "#export\n",
    "import datetime\n",
    "from typing import Union, Optional, List\n",
    "import os\n",
    "import shutil\n",
    "import json\n",
    "\n",
    "import pytest\n",
    "\n",
    "import numpy as np\n",
    "import pandas as pd\n",
    "\n",
    "from icevision.core.record import BaseRecord\n",
    "import icevision.parsers as parsers\n",
    "from icevision.data.data_splitter import RandomSplitter\n",
    "from icevision.core.bbox import BBox\n",
    "from icevision.core.class_map import ClassMap\n",
    "\n",
    "from icevision_dashboards.core.plotting.utils import draw_record_with_bokeh\n",
    "from icevision_dashboards.core.data import *"
   ]
  },
  {
   "cell_type": "markdown",
   "metadata": {},
   "source": [
    "## Test data setup"
   ]
  },
  {
   "cell_type": "code",
   "execution_count": null,
   "metadata": {},
   "outputs": [],
   "source": [
    "import icedata"
   ]
  },
  {
   "cell_type": "code",
   "execution_count": null,
   "metadata": {},
   "outputs": [],
   "source": [
    "test_data_dir = icedata.fridge.load_data()\n",
    "test_class_map = icedata.fridge.class_map()\n",
    "test_parser = icedata.fridge.parser(test_data_dir, test_class_map)\n",
    "test_train_records, test_valid_records = test_parser.parse()"
   ]
  },
  {
   "cell_type": "code",
   "execution_count": null,
   "metadata": {},
   "outputs": [],
   "source": [
    "#export\n",
    "class RecordDataframeParser(parsers.Parser, parsers.FilepathMixin, parsers.SizeMixin, parsers.LabelsMixin):\n",
    "    def __init__(self, record_dataframe):\n",
    "        self.record_dataframe = record_dataframe\n",
    "        \n",
    "    def __iter__(self):\n",
    "        for group in self.record_dataframe.groupby(\"filepath\"):\n",
    "            yield group[1]\n",
    "    \n",
    "    def imageid(self, o):\n",
    "        return o.iloc[0][\"id\"]\n",
    "    \n",
    "    def filepath(self, o):\n",
    "        return o.iloc[0][\"filepath\"]\n",
    "    \n",
    "    def image_width_height(self, o):\n",
    "        width, height = o.iloc[0][\"width\"], o.iloc[0][\"height\"]\n",
    "        return (width, height)\n",
    "    \n",
    "    def labels(self, o):\n",
    "        return [annot[1][\"label_num\"] for annot in o.iterrows()]"
   ]
  },
  {
   "cell_type": "code",
   "execution_count": null,
   "metadata": {},
   "outputs": [],
   "source": [
    "#export\n",
    "class BboxRecordDataframeParser(RecordDataframeParser, parsers.BBoxesMixin):\n",
    "    def bboxes(self, o):\n",
    "        return [BBox(annot[1][\"bbox_xmin\"], annot[1][\"bbox_ymin\"], annot[1][\"bbox_xmax\"], annot[1][\"bbox_ymax\"]) for annot in o.iterrows()]"
   ]
  },
  {
   "cell_type": "code",
   "execution_count": null,
   "metadata": {},
   "outputs": [],
   "source": [
    "#export\n",
    "class MaskRecordDataframeParser(BboxRecordDataframeParser, parsers.MaskRCNN):\n",
    "    def iscrowds(self, o):\n",
    "        raise NotImplementedError()\n",
    "    def masks(self, o):\n",
    "        raise NotImplementedError()"
   ]
  },
  {
   "cell_type": "code",
   "execution_count": null,
   "metadata": {},
   "outputs": [],
   "source": [
    "#export\n",
    "class RecordDataset(GenericDataset):\n",
    "    def __init__(self, records: Union[List[BaseRecord], ObservableList, str], class_map=None, name=None, description=None):\n",
    "        if isinstance(records, str):\n",
    "            self.load_from_file(records)\n",
    "        else:\n",
    "            self.records = records if isinstance(records, ObservableList) else ObservableList(records)\n",
    "            self.class_map = class_map\n",
    "        super().__init__(self.records, name=name, description=description)\n",
    "        self.records.register_callback(self.reset_infered_data)\n",
    "    \n",
    "    def __repr__(self):\n",
    "        base_string = \"\"\n",
    "        for col in self.stats_dataset.columns:\n",
    "            base_string += str(col) + \": \" + str(self.stats_dataset[col][0]) + \" | \"\n",
    "        base_string = base_string[:-2]\n",
    "        return base_string\n",
    "        \n",
    "    def __getitem__(self, index):\n",
    "        return self.records[index]\n",
    "        \n",
    "    def __len__(self):\n",
    "        return len(self.records)\n",
    "        \n",
    "    @classmethod\n",
    "    def load_from_record_dataframe(cls, record_data_df: pd.DataFrame, class_map=None, name=None, description=None):\n",
    "        records = cls.parse_df_to_records(record_data_df)\n",
    "        if class_map is None:\n",
    "            class_map = cls.create_class_map_from_record_df(record_data_df)\n",
    "        return cls(records, class_map=class_map, name=name, description=description)\n",
    "\n",
    "    @staticmethod\n",
    "    def create_class_map_from_record_df(record_df):\n",
    "        sorted_labels = record_df[\"label\"].unique()[np.argsort(record_df[\"label_num\"].unique())].tolist()\n",
    "        sorted_label_nums = sorted(record_df[\"label_num\"].unique())\n",
    "        label_map = {key: value for key, value in zip(sorted_label_nums, sorted_labels)}\n",
    "        return ClassMap([label_map[i] if i in label_map.keys() else \"unknown_\"+str(i) for i in range(max(sorted_label_nums))])\n",
    "    \n",
    "    @staticmethod\n",
    "    def parse_df_to_records(record_data_df):\n",
    "        raise NotImplementedError()\n",
    "    \n",
    "    def load_from_file(self, path):\n",
    "        data = json.load(open(path))\n",
    "        df = pd.DataFrame(data[\"data\"])\n",
    "        records = self.parse_df_to_records(df)\n",
    "        \n",
    "        self.records = ObservableList(records)\n",
    "        self.class_map = ClassMap(data[\"class_map\"])\n",
    "        self._name = data[\"name\"]\n",
    "        self._description = data[\"description\"]\n",
    "    \n",
    "    def save(self, save_path):\n",
    "        if not os.path.isdir(save_path):\n",
    "            os.makedirs(save_path, exist_ok=True)\n",
    "        save_name = \"dataset\" if self.name == \"\" else self.name\n",
    "        if not os.path.isfile(os.path.join(save_path, save_name+\".json\")):\n",
    "            save_name = save_name+\".json\"\n",
    "        else:\n",
    "            counter = 1\n",
    "            while True:\n",
    "                save_name = save_name+\"(\"+str(counter)+\").json\"\n",
    "                if os.path.isfile(os.path.join(save_path, save_name)):\n",
    "                    counter += 1\n",
    "                else:\n",
    "                    break\n",
    "        \n",
    "        class_map = self.class_map if self.class_map is not None else self.create_class_map_from_record_df(df)\n",
    "        save_data = {\"name\": self.name, \"description\": self.description, \"data\": self.data.to_dict(), \"class_map\": class_map.id2class}\n",
    "        \n",
    "        json.dump(save_data, open(os.path.join(save_path, save_name), \"w\"), default=str)\n",
    "        \n",
    "    def get_image_plot_by_id(self, index, width, height):\n",
    "        return draw_record_with_bokeh(self[index], width=width, height=height, return_figure=True)\n",
    "    \n",
    "    @classmethod\n",
    "    def create_new_from_mask(cls, cls_instance, mask):\n",
    "        selection = cls_instance.data[mask]\n",
    "        filepaths = np.unique(selection[\"filepath\"]).tolist()\n",
    "        new_records = [record for record in cls_instance.records if str(record[\"filepath\"]) in filepaths]\n",
    "        return cls(new_records)"
   ]
  },
  {
   "cell_type": "code",
   "execution_count": null,
   "metadata": {},
   "outputs": [],
   "source": [
    "#export\n",
    "class DataDescriptorBbox(DatasetDescriptor):\n",
    "    def calculate_description(self, obj):\n",
    "        \"\"\"Aggregates stats from a list of records and returns a pandas dataframe with the aggregated stats. The creation time is not necessarily the real creation time. \n",
    "        This depends on the OS, for more information see: https://docs.python.org/3/library/os.html#os.stat_result.\"\"\"\n",
    "        data = []\n",
    "        for index,record in enumerate(obj.records):\n",
    "            for label, bbox in zip(record[\"labels\"], record[\"bboxes\"]):\n",
    "                file_stats = record[\"filepath\"].stat()\n",
    "                bbox_widht = bbox.xmax - bbox.xmin\n",
    "                bbox_height = bbox.ymax - bbox.ymin\n",
    "                area = bbox_widht * bbox_height\n",
    "                area_normalized = area / (record[\"width\"] * record[\"height\"])\n",
    "                bbox_ratio = bbox_widht / bbox_height\n",
    "                data.append(\n",
    "                    {\n",
    "                        \"id\": record[\"imageid\"], \"width\": record[\"width\"], \"height\": record[\"height\"], \"label\": label, \n",
    "                        \"bbox_xmin\": bbox.xmin, \"bbox_xmax\": bbox.xmax, \"bbox_ymin\": bbox.ymin, \"bbox_ymax\": bbox.ymax, \"area\": area, \n",
    "                        \"area_normalized\": area_normalized, \"bbox_ratio\": bbox_ratio, \"record_index\": index, \"bbox_width\": bbox_widht, \n",
    "                        \"bbox_height\": bbox_height, \"filepath\": str(record[\"filepath\"]), \"creation_date\": datetime.datetime.fromtimestamp(file_stats.st_ctime), \n",
    "                        \"modification_date\": datetime.datetime.fromtimestamp(file_stats.st_mtime), \"num_annotations\": len(record[\"bboxes\"])\n",
    "                    }\n",
    "                )\n",
    "        data = pd.DataFrame(data)\n",
    "        data[\"label_num\"] = data[\"label\"]\n",
    "        if obj.class_map is not None:\n",
    "            data[\"label\"] = data[\"label\"].apply(obj.class_map.get_id)\n",
    "        return data"
   ]
  },
  {
   "cell_type": "code",
   "execution_count": null,
   "metadata": {},
   "outputs": [],
   "source": [
    "#export\n",
    "class StatsDesscriptorBbox(DatasetDescriptor):\n",
    "    def calculate_description(self, obj):\n",
    "        stats_dict = {}\n",
    "        stats_dict[\"no_imgs\"] = [obj.data[\"filepath\"].nunique()]\n",
    "        stats_dict[\"no_classes\"] = [obj.data[\"label\"].nunique()]\n",
    "        stats_dict[\"classes\"] = [list(obj.data[\"label\"].unique())]\n",
    "        stats_dict[\"area_min\"] = [obj.data[\"area\"].min()]\n",
    "        stats_dict[\"area_max\"] = [obj.data[\"area\"].max()]\n",
    "        stats_dict[\"num_annotations_min\"] = [obj.data[\"num_annotations\"].min()]\n",
    "        stats_dict[\"num_annotations_max\"] = [obj.data[\"num_annotations\"].max()]\n",
    "        stats_dict[\"name\"] = [obj._name]\n",
    "        stats_dict[\"description\"] = [obj._description]\n",
    "        return pd.DataFrame(stats_dict)"
   ]
  },
  {
   "cell_type": "code",
   "execution_count": null,
   "metadata": {},
   "outputs": [],
   "source": [
    "#export\n",
    "class ImageStatsDesscriptorBbox(DatasetDescriptor):\n",
    "    def calculate_description(self, obj):\n",
    "        \"\"\"Creates a dataframe containing stats about the images.\"\"\"\n",
    "        stats_dict = {}\n",
    "        stats_dict[\"Num. imgs.\"] = obj.data[\"filepath\"].nunique()\n",
    "        stats_dict[\"Min Num. Objects\"] = obj.data[\"num_annotations\"].min()\n",
    "        stats_dict[\"Max Num. Objects\"] = obj.data[\"num_annotations\"].max()\n",
    "        stats_dict[\"Avg. Objects/Img\"] = round(obj.data[\"num_annotations\"].mean(),2)\n",
    "        df = pd.DataFrame.from_dict(stats_dict, orient=\"index\").T\n",
    "        return df"
   ]
  },
  {
   "cell_type": "code",
   "execution_count": null,
   "metadata": {},
   "outputs": [],
   "source": [
    "#export\n",
    "class ClassStatsDesscriptorBbox(DatasetDescriptor):\n",
    "    def calculate_description(self, obj):\n",
    "        \"\"\"Creates a dataframe containing stats about the object classes.\"\"\"\n",
    "        stats_dict = {}\n",
    "        label_group = obj.data.groupby(\"label\")\n",
    "        for label, group in label_group:\n",
    "            label_stats = {}\n",
    "            label_stats[\"imgs\"] = group[\"filepath\"].nunique()\n",
    "            label_stats[\"objects\"] = group.shape[0]\n",
    "            label_stats[\"avg_objects_per_img\"] = label_stats[\"objects\"]/label_stats[\"imgs\"]\n",
    "            label_stats[\"frac_of_labels\"] = round(label_stats[\"objects\"]/obj.data.shape[0], 2)\n",
    "            stats_dict[label] = label_stats\n",
    "        df = pd.DataFrame(stats_dict).T\n",
    "        df = df.rename_axis('Class').reset_index()\n",
    "        return df"
   ]
  },
  {
   "cell_type": "code",
   "execution_count": null,
   "metadata": {},
   "outputs": [],
   "source": [
    "#export\n",
    "class BboxRecordDataset(RecordDataset):\n",
    "    data = DataDescriptorBbox()\n",
    "    stats_dataset = StatsDesscriptorBbox()\n",
    "    stats_image = ImageStatsDesscriptorBbox()\n",
    "    stats_class = ClassStatsDesscriptorBbox()\n",
    "    stats = StatsDesscriptorBbox()\n",
    "    \n",
    "    def __init__(self, records: Union[List[BaseRecord], ObservableList, str], class_map=None, name=None, description=None):\n",
    "        super().__init__(records, class_map, name, description)\n",
    "        self.data = None\n",
    "        self.stats_dataset = None\n",
    "        self.stats_image = None\n",
    "        self.stats_class = None\n",
    "    \n",
    "    @staticmethod\n",
    "    def parse_df_to_records(record_data_df):\n",
    "        return BboxRecordDataframeParser(record_data_df).parse(RandomSplitter([1]))[0]\n",
    "    \n",
    "    def get_image_plot_by_id(self, index, width, height):\n",
    "        return draw_record_with_bokeh(self[index], display_bbox=True, width=width, height=height, return_figure=True)"
   ]
  },
  {
   "cell_type": "code",
   "execution_count": null,
   "metadata": {},
   "outputs": [],
   "source": [
    "test_record_dataset = BboxRecordDataset(test_valid_records, test_class_map)\n",
    "assert isinstance(test_record_dataset.data, pd.DataFrame)\n",
    "assert isinstance(test_record_dataset.stats_dataset, pd.DataFrame)\n",
    "assert isinstance(test_record_dataset.stats_class, pd.DataFrame)\n",
    "assert isinstance(test_record_dataset.stats_image, pd.DataFrame)"
   ]
  },
  {
   "cell_type": "code",
   "execution_count": null,
   "metadata": {},
   "outputs": [],
   "source": [
    "mask = np.array([False]*test_record_dataset.data.shape[0])\n",
    "mask[1] = True\n",
    "masked_test_record = test_record_dataset.create_new_from_mask(test_record_dataset, mask)\n",
    "assert len(masked_test_record) == 1"
   ]
  },
  {
   "cell_type": "code",
   "execution_count": null,
   "metadata": {},
   "outputs": [],
   "source": [
    "# selection = cls_instance.data[mask]\n",
    "# filepaths = np.unique(selection[\"filepath\"])\n",
    "# new_records = [record for record in cls_instance.records if record[\"filepath\"] in filepaths]\n",
    "# return cls(new_records)"
   ]
  },
  {
   "cell_type": "code",
   "execution_count": null,
   "metadata": {},
   "outputs": [],
   "source": [
    "test_old_record_dataset_stats = test_record_dataset.stats_dataset\n",
    "test_record_dataset.records.list = test_train_records\n",
    "test_new_record_dataset_stats = test_record_dataset.stats_dataset\n",
    "assert all(test_old_record_dataset_stats != test_new_record_dataset_stats)"
   ]
  },
  {
   "cell_type": "code",
   "execution_count": null,
   "metadata": {},
   "outputs": [],
   "source": [
    "test_record_dataset.data"
   ]
  },
  {
   "cell_type": "code",
   "execution_count": null,
   "metadata": {},
   "outputs": [],
   "source": [
    "test_regenerated_record_dataset = BboxRecordDataset.load_from_record_dataframe(test_record_dataset.data)\n",
    "assert len(test_regenerated_record_dataset.records) == len(test_record_dataset.records)"
   ]
  },
  {
   "cell_type": "code",
   "execution_count": null,
   "metadata": {},
   "outputs": [],
   "source": [
    "shutil.rmtree(\"dump_dir\", ignore_errors=True)\n",
    "os.mkdir(\"dump_dir\")\n",
    "test_record_dataset.name = \"\"\n",
    "test_record_dataset.save(\"dump_dir\")\n",
    "test_record_dataset.save(\"dump_dir\")\n",
    "assert len(os.listdir(\"dump_dir\")) == 2\n",
    "assert os.path.isfile(\"dump_dir/dataset.json\")\n",
    "test_loaded_record_dataset = BboxRecordDataset(\"dump_dir/dataset.json\")\n",
    "assert test_record_dataset.data.sort_values(\"area\").shape == test_loaded_record_dataset.data.sort_values(\"id\").shape\n",
    "shutil.rmtree(\"dump_dir\")"
   ]
  },
  {
   "cell_type": "code",
   "execution_count": null,
   "metadata": {},
   "outputs": [],
   "source": []
  },
  {
   "cell_type": "code",
   "execution_count": null,
   "metadata": {},
   "outputs": [],
   "source": []
  }
 ],
 "metadata": {
  "kernelspec": {
   "display_name": "Python 3",
   "language": "python",
   "name": "python3"
  }
 },
 "nbformat": 4,
 "nbformat_minor": 4
}
