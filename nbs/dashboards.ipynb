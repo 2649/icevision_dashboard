{
 "cells": [
  {
   "cell_type": "code",
   "execution_count": null,
   "metadata": {},
   "outputs": [],
   "source": [
    "# default_exp dashboards"
   ]
  },
  {
   "cell_type": "markdown",
   "metadata": {},
   "source": [
    "# dashboards\n",
    "> Supplies dashboards to investigate datasets and training results. Dashboards are defined as classes, to show the dashboard use the .show() function on an dashboard instance."
   ]
  },
  {
   "cell_type": "code",
   "execution_count": null,
   "metadata": {},
   "outputs": [],
   "source": [
    "#export\n",
    "from typing import Union, Optional, List\n",
    "from abc import abstractmethod, ABC\n",
    "from math import ceil, floor\n",
    "\n",
    "import pytest\n",
    "\n",
    "from bokeh.plotting import show, output_notebook\n",
    "from bokeh.models.widgets import DataTable, TableColumn, HTMLTemplateFormatter\n",
    "from bokeh.models import ColumnDataSource\n",
    "\n",
    "import panel as pn\n",
    "import panel.widgets as pnw\n",
    "import numpy as np\n",
    "import pandas as pd\n",
    "\n",
    "from icevision_dashboards.core.dashboards import *\n",
    "from icevision_dashboards.core.plotting import *\n",
    "from icevision_dashboards.core.data import *\n",
    "from icevision_dashboards.data import *"
   ]
  },
  {
   "cell_type": "code",
   "execution_count": null,
   "metadata": {},
   "outputs": [],
   "source": [
    "#hide\n",
    "pn.extension()"
   ]
  },
  {
   "cell_type": "markdown",
   "metadata": {},
   "source": [
    "## Test data setup"
   ]
  },
  {
   "cell_type": "code",
   "execution_count": null,
   "metadata": {},
   "outputs": [],
   "source": [
    "import icedata"
   ]
  },
  {
   "cell_type": "code",
   "execution_count": null,
   "metadata": {},
   "outputs": [],
   "source": [
    "test_data_dir = icedata.fridge.load_data()\n",
    "test_class_map = icedata.fridge.class_map()\n",
    "test_parser = icedata.fridge.parser(test_data_dir, test_class_map)\n",
    "test_train_records, test_valid_records = test_parser.parse()\n",
    "test_valid_record_dataset = BboxRecordDataset(test_valid_records, test_class_map)\n",
    "test_train_record_dataset = BboxRecordDataset(test_train_records, test_class_map)\n",
    "test_record_dataset_no_class_map = BboxRecordDataset(test_train_records)"
   ]
  },
  {
   "cell_type": "code",
   "execution_count": null,
   "metadata": {},
   "outputs": [],
   "source": [
    "#export\n",
    "class IcevisionGallery(Gallery):\n",
    "    def load_image_by_index(self, index):\n",
    "        self.get_mapped_index(index)\n",
    "        return self.dataset.get_image_plot_by_id(index, height=self.height-50, width=None)"
   ]
  },
  {
   "cell_type": "code",
   "execution_count": null,
   "metadata": {},
   "outputs": [],
   "source": [
    "IcevisionGallery(test_valid_record_dataset, height=500).show()"
   ]
  },
  {
   "cell_type": "code",
   "execution_count": null,
   "metadata": {},
   "outputs": [],
   "source": [
    "#export\n",
    "class ObjectDetectionDatasetOverview(DatasetOverview):\n",
    "    DESCRIPTOR_DATA = \"data\"\n",
    "    DESCRIPTOR_STATS_DATASET = \"stats_dataset\"\n",
    "    DESCRIPTOR_STATS_IMAGES = \"stats_image\"\n",
    "    DESCRIPTOR_STATS_ANNOTATIONS = \"stats_class\"\n",
    "    \n",
    "    # change these \n",
    "    IMAGE_IDENTIFIER_COL = \"filepath\"\n",
    "    ANNOTATON_LABEL_COL = \"label\"\n",
    "    OBJECTS_PER_IMAGE_COL = \"num_annotations\"\n",
    "    AREA_COL = \"area\"\n",
    "    \n",
    "    def _generate_datset_stats_tab(self):\n",
    "        dataset_overview_table = table_from_dataframe(getattr(self.dataset, self.DESCRIPTOR_STATS_DATASET), width=self.width, height=self.height//7)\n",
    "        images_overview_table = table_from_dataframe(getattr(self.dataset, self.DESCRIPTOR_STATS_IMAGES), width=self.width, height=self.height//7)\n",
    "        classes_overview_table = table_from_dataframe(getattr(self.dataset, self.DESCRIPTOR_STATS_ANNOTATIONS), width=self.width, height=self.height//4)\n",
    "        \n",
    "        class_occurances = self.dataset.data.groupby(\"label\").count()[\"id\"]\n",
    "        class_occurance_barplot = barplot(counts=class_occurances.values, values=np.array(class_occurances.index), bar_type=\"vertical\", height=(self.height//5)*2)\n",
    "\n",
    "        return pn.Column(\"<b>Dataset stats</b>\", dataset_overview_table, \"<b>Image stats</b>\", images_overview_table, \"<b>Class stats</b>\", classes_overview_table, pn.Row(class_occurance_barplot, align=\"center\"))\n",
    "    \n",
    "    def _generate_annotations_tab(self):\n",
    "        plot_size = floor(min(self.height, self.width)*0.45)\n",
    "        # mixing of classes\n",
    "        mixing_matrix_classes_in_images = utils.calculate_mixing_matrix(getattr(self.dataset, self.DESCRIPTOR_DATA), self.IMAGE_IDENTIFIER_COL, self.ANNOTATON_LABEL_COL)\n",
    "        self.class_mixing_matrix_plot = pn.Column(\"<b>Class mixing</b>\", heatmap(mixing_matrix_classes_in_images, \"row_name\", \"col_name\", \"values\", width=plot_size, height=plot_size), height=self.height)\n",
    "        # number of object per image, stacked hist\n",
    "        self.classes_for_objects_per_image_stacked_hist = pn.Column(\n",
    "            \"<b>Objects per Image</b>\", \n",
    "            stacked_hist(getattr(self.dataset, self.DESCRIPTOR_DATA), self.OBJECTS_PER_IMAGE_COL, self.ANNOTATON_LABEL_COL, \"Objects per Image\", width=plot_size, height=plot_size)\n",
    "        )\n",
    "        # categorical overview\n",
    "        self.categorical_2d_histogram = categorical_2d_histogram_with_gui(\n",
    "            getattr(self.dataset, self.DESCRIPTOR_DATA),\n",
    "            category_cols=[\"label\", \"num_annotations\", \"width\", \"height\"],\n",
    "            hist_cols=[\"num_annotations\", \"area\", \"area_normalized\", \"bbox_ratio\", \"bbox_xmin\", \"bbox_xmax\", \"bbox_ymin\", \"bbox_ymax\", \"width\", \"height\"])\n",
    "        # ratio distribution\n",
    "        grid =  pn.GridSpec(ncols=2,nrows=2, width=self.width, height=self.height, align=\"center\")\n",
    "        grid[0,0] = self.class_mixing_matrix_plot\n",
    "        grid[1,0] = self.classes_for_objects_per_image_stacked_hist\n",
    "        grid[:,1] = pn.Column(self.categorical_2d_histogram, align=\"center\")\n",
    "        return grid \n",
    "    \n",
    "    def _generate_gallery_tab(self):\n",
    "        return pn.Column(IcevisionGallery(self.dataset, height=self.height).show(), align=\"center\", sizing_mode=\"stretch_both\")\n",
    "    \n",
    "    def build_gui(self):\n",
    "        dataset_tab = super()._generate_dataset_tab()\n",
    "        dataset_stats_tab = self._generate_datset_stats_tab()\n",
    "        annotations_tab = self._generate_annotations_tab()\n",
    "        gallery_tab = self._generate_gallery_tab()\n",
    "        self.gui = pn.Tabs((\"Dataset stats overview\", dataset_stats_tab), (\"Annotations overivew\", annotations_tab), (\"Gallery\", gallery_tab), (\"Dataset overview\", dataset_tab), align=\"start\")"
   ]
  },
  {
   "cell_type": "code",
   "execution_count": null,
   "metadata": {},
   "outputs": [],
   "source": [
    "test_object_detection_overview = ObjectDetectionDatasetOverview(test_valid_record_dataset, width=1500, height=900)\n",
    "test_object_detection_overview.show()"
   ]
  },
  {
   "cell_type": "code",
   "execution_count": null,
   "metadata": {},
   "outputs": [],
   "source": [
    "#export\n",
    "class ObjectDetectionDatasetComparison(DatasetComparison):\n",
    "    DESCRIPTOR_DATA = \"data\"\n",
    "    DESCRIPTOR_STATS_DATASET = \"stats_dataset\"\n",
    "    DESCRIPTOR_STATS_IMAGES = \"stats_image\"\n",
    "    DESCRIPTOR_STATS_ANNOTATIONS = \"stats_class\"\n",
    "    \n",
    "    # change these \n",
    "    IMAGE_IDENTIFIER_COL = \"filepath\"\n",
    "    ANNOTATON_LABEL_COL = \"label\"\n",
    "    OBJECTS_PER_IMAGE_COL = \"num_annotations\"\n",
    "    AREA_COL = \"area\"\n",
    "    \n",
    "    def _generate_dataset_tab(self):\n",
    "        overview_table = table_from_dataframe(self._get_descriptor_for_all_datasets(self.DESCRIPTOR_DATA), width=floor(self.width/2), height=self.height)\n",
    "        return pn.Row(*overview_table)\n",
    "    \n",
    "    def _generate_datset_stats_tab(self):\n",
    "        dataset_overview_table = table_from_dataframe(self._get_descriptor_for_all_datasets(self.DESCRIPTOR_STATS_DATASET), width=floor(self.width/2), height=self.height//7)\n",
    "        images_overview_table = table_from_dataframe(self._get_descriptor_for_all_datasets(self.DESCRIPTOR_STATS_IMAGES), width=floor(self.width/2), height=self.height//7)\n",
    "        classes_overview_table = table_from_dataframe(self._get_descriptor_for_all_datasets(self.DESCRIPTOR_STATS_ANNOTATIONS), width=floor(self.width/2), height=self.height//4)\n",
    "        \n",
    "        class_occurances_values = [dataset.data.groupby(\"label\").count()[\"id\"].values for dataset in self.datasets]\n",
    "        class_occurances_index = [np.array(dataset.data.groupby(\"label\").count()[\"id\"].index) for dataset in self.datasets]\n",
    "        class_occurance_barplot = barplot(counts=class_occurances_values, values=class_occurances_index, bar_type=\"vertical\", height=(self.height//5)*2, width=floor(self.width/2))\n",
    "\n",
    "        dublication_data = {dataset.name if dataset.name is not None else \"Dataset_\"+str(index): [getattr(dataset, self.DESCRIPTOR_DATA).duplicated().sum()] for index, dataset in enumerate(self.datasets)}\n",
    "        dublication_data[\"All\"] = pd.concat(self._get_descriptor_for_all_datasets(self.DESCRIPTOR_DATA)).duplicated().sum()\n",
    "        dublication_df = pd.DataFrame(dublication_data)\n",
    "        dublication_overview = table_from_dataframe(dublication_df)\n",
    "        \n",
    "        return pn.Column(\n",
    "            \"<b>Dublications</p>\", pn.Row(dublication_overview), \n",
    "            \"<b>Dataset stats</b>\", pn.Row(*dataset_overview_table), \n",
    "            \"<b>Image stats</b>\", pn.Row(*images_overview_table), \n",
    "            \"<b>Class stats</b>\", pn.Row(*classes_overview_table), \n",
    "            pn.Row(*class_occurance_barplot, align=\"center\")\n",
    "        )\n",
    "    \n",
    "    def _generate_annotations_tab(self):\n",
    "        plot_size = min(floor(self.width/len(self.datasets)), floor(self.height/2))\n",
    "        link_plots_checkbox = pnw.Checkbox(name=\"Link plot axis\", value=True)\n",
    "        \n",
    "        @pn.depends(link_plots_checkbox.param.value)\n",
    "        def _mixing_plots(link_plots):\n",
    "            # mixing of classes\n",
    "            mixing_matrix_classes_in_images = [utils.calculate_mixing_matrix(dataset, self.IMAGE_IDENTIFIER_COL, self.ANNOTATON_LABEL_COL) for dataset in self._get_descriptor_for_all_datasets(self.DESCRIPTOR_DATA)]\n",
    "            class_mixing_matrix_plot = pn.Row(\"<b>Class mixing</b>\", *heatmap(mixing_matrix_classes_in_images, \"row_name\", \"col_name\", \"values\", link_plots=link_plots, width=plot_size, height=plot_size))\n",
    "            # number of object per image, stacked hist\n",
    "            classes_for_objects_per_image_stacked_hist = pn.Row(\n",
    "                \"<b>Objects per Image</b>\", \n",
    "                *stacked_hist(self._get_descriptor_for_all_datasets(self.DESCRIPTOR_DATA), self.OBJECTS_PER_IMAGE_COL, self.ANNOTATON_LABEL_COL, \"Objects per Image\", link_plots=link_plots, width=plot_size, height=plot_size)\n",
    "            )\n",
    "            return pn.Column(link_plots_checkbox, class_mixing_matrix_plot, classes_for_objects_per_image_stacked_hist)\n",
    "            \n",
    "        # categorical overview\n",
    "        self.categorical_2d_histogram = categorical_2d_histogram_with_gui(\n",
    "            self._get_descriptor_for_all_datasets(self.DESCRIPTOR_DATA),\n",
    "            category_cols=[\"label\", \"num_annotations\", \"width\", \"height\"],\n",
    "            hist_cols=[\"num_annotations\", \"area\", \"area_normalized\", \"bbox_ratio\", \"bbox_xmin\", \"bbox_xmax\", \"bbox_ymin\", \"bbox_ymax\", \"width\", \"height\"],\n",
    "            height=floor(plot_size*1.5), width=floor(plot_size*1.5)\n",
    "        )\n",
    "        return pn.Column(_mixing_plots, self.categorical_2d_histogram, align=\"center\")\n",
    "    \n",
    "    def _generate_gallery_tab(self):\n",
    "        return pn.Row(*[IcevisionGallery(dataset, width=floor(self.width/len(self.datasets))).show() for dataset in self.datasets], align=\"start\", sizing_mode=\"stretch_both\")\n",
    "    \n",
    "    def build_gui(self):\n",
    "        dataset_tab = self._generate_dataset_tab()\n",
    "        dataset_stats_tab = self._generate_datset_stats_tab()\n",
    "        annotations_tab = self._generate_annotations_tab()\n",
    "        gallery_tab = self._generate_gallery_tab()\n",
    "        self.gui = pn.Tabs((\"Dataset stats overview\", dataset_stats_tab), (\"Annotations overivew\", annotations_tab), (\"Gallery\", gallery_tab), (\"Dataset overview\", dataset_tab), align=\"start\")"
   ]
  },
  {
   "cell_type": "code",
   "execution_count": null,
   "metadata": {},
   "outputs": [],
   "source": [
    "test_object_detection_comparison = ObjectDetectionDatasetComparison([test_valid_record_dataset, test_train_record_dataset], width=1700, height=700)\n",
    "test_object_detection_comparison.show()"
   ]
  },
  {
   "cell_type": "code",
   "execution_count": null,
   "metadata": {},
   "outputs": [],
   "source": [
    "#export\n",
    "class ObjectDetectionDatasetGenerator(DatasetGenerator):\n",
    "    DESCRIPTOR_STATS = \"stats_dataset\"\n",
    "    DATASET_OVERVIEW = ObjectDetectionDatasetOverview\n",
    "    DATASET_FILTER_COLUMNS = [\"width\", \"height\", \"label\", \"area_normalized\", \"bbox_ratio\", \"bbox_width\", \"bbox_height\", \"num_annotations\"]"
   ]
  },
  {
   "cell_type": "code",
   "execution_count": null,
   "metadata": {},
   "outputs": [],
   "source": [
    "test_dataset_generator = ObjectDetectionDatasetGenerator(test_train_record_dataset, height=1000, width=1500)\n",
    "test_dataset_generator.show()"
   ]
  },
  {
   "cell_type": "code",
   "execution_count": null,
   "metadata": {},
   "outputs": [],
   "source": []
  }
 ],
 "metadata": {
  "kernelspec": {
   "display_name": "Python 3",
   "language": "python",
   "name": "python3"
  }
 },
 "nbformat": 4,
 "nbformat_minor": 4
}
